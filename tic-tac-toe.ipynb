{
  "nbformat": 4,
  "nbformat_minor": 0,
  "metadata": {
    "colab": {
      "provenance": [],
      "authorship_tag": "ABX9TyP6JuRKFchbQEkFdeUoZZyN",
      "include_colab_link": true
    },
    "kernelspec": {
      "name": "python3",
      "display_name": "Python 3"
    },
    "language_info": {
      "name": "python"
    }
  },
  "cells": [
    {
      "cell_type": "markdown",
      "metadata": {
        "id": "view-in-github",
        "colab_type": "text"
      },
      "source": [
        "<a href=\"https://colab.research.google.com/github/mokshitha12345/projects/blob/main/tic-tac-toe.ipynb\" target=\"_parent\"><img src=\"https://colab.research.google.com/assets/colab-badge.svg\" alt=\"Open In Colab\"/></a>"
      ]
    },
    {
      "cell_type": "code",
      "execution_count": null,
      "metadata": {
        "id": "yxz9E-UorsQz"
      },
      "outputs": [],
      "source": []
    },
    {
      "cell_type": "code",
      "source": [
        "def sum(a, b, c ):\n",
        "    return a + b + c\n",
        "\n",
        "def printBoard(xState, zState):\n",
        "    zero = 'X' if xState[0] else ('O' if zState[0] else 0)\n",
        "    one = 'X' if xState[1] else ('O' if zState[1] else 1)\n",
        "    two = 'X' if xState[2] else ('O' if zState[2] else 2)\n",
        "    three = 'X' if xState[3] else ('O' if zState[3] else 3)\n",
        "    four = 'X' if xState[4] else ('O' if zState[4] else 4)\n",
        "    five = 'X' if xState[5] else ('O' if zState[5] else 5)\n",
        "    six = 'X' if xState[6] else ('O' if zState[6] else 6)\n",
        "    seven = 'X' if xState[7] else ('O' if zState[7] else 7)\n",
        "    eight = 'X' if xState[8] else ('O' if zState[8] else 8)\n",
        "    print(f\"{zero} | {one} | {two} \")\n",
        "    print(f\"--|---|---\")\n",
        "    print(f\"{three} | {four} | {five} \")\n",
        "    print(f\"--|---|---\")\n",
        "    print(f\"{six} | {seven} | {eight} \")\n",
        "\n",
        "def checkWin(xState, zState):\n",
        "    wins = [[0, 1, 2], [3, 4, 5], [6, 7, 8], [0, 3, 6], [1, 4, 7], [2, 5, 8], [0, 4, 8], [2, 4, 6]]\n",
        "    for win in wins:\n",
        "        if(sum(xState[win[0]], xState[win[1]], xState[win[2]]) == 3):\n",
        "            print(\"X Won the match\")\n",
        "            return 1\n",
        "        if(sum(zState[win[0]], zState[win[1]], zState[win[2]]) == 3):\n",
        "            print(\"O Won the match\")\n",
        "            return 0\n",
        "    return -1\n",
        "\n",
        "if __name__ == \"__main__\":\n",
        "    xState = [0, 0, 0, 0, 0, 0, 0, 0, 0]\n",
        "    zState = [0, 0, 0, 0, 0, 0, 0, 0, 0]\n",
        "    turn = 1 # 1 for X and 0 for O\n",
        "    print(\"Welcome to Tic Tac Toe\")\n",
        "    while(True):\n",
        "        printBoard(xState, zState)\n",
        "        if(turn == 1):\n",
        "            print(\"X's Chance\")\n",
        "            value = int(input(\"Please enter a value: \"))\n",
        "            xState[value] = 1\n",
        "        else:\n",
        "            print(\"O's Chance\")\n",
        "            value = int(input(\"Please enter a value: \"))\n",
        "            zState[value] = 1\n",
        "        cwin = checkWin(xState, zState)\n",
        "        if(cwin != -1):\n",
        "            print(\"Match over\")\n",
        "            break\n",
        "\n",
        "        turn = 1 - turn"
      ],
      "metadata": {
        "colab": {
          "base_uri": "https://localhost:8080/"
        },
        "id": "6FfiQsePr2sz",
        "outputId": "0f3e678d-011e-484c-a3b0-d23c550c04cc"
      },
      "execution_count": null,
      "outputs": [
        {
          "output_type": "stream",
          "name": "stdout",
          "text": [
            "Welcome to Tic Tac Toe\n",
            "0 | 1 | 2 \n",
            "--|---|---\n",
            "3 | 4 | 5 \n",
            "--|---|---\n",
            "6 | 7 | 8 \n",
            "X's Chance\n",
            "Please enter a value: 5\n",
            "0 | 1 | 2 \n",
            "--|---|---\n",
            "3 | 4 | X \n",
            "--|---|---\n",
            "6 | 7 | 8 \n",
            "O's Chance\n"
          ]
        }
      ]
    }
  ]
}